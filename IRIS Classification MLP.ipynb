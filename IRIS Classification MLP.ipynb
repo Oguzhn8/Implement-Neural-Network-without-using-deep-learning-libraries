{
 "cells": [
  {
   "cell_type": "code",
   "execution_count": 50,
   "id": "e24a57f6",
   "metadata": {},
   "outputs": [],
   "source": [
    "import numpy as np\n",
    "import random\n",
    "from sklearn import datasets"
   ]
  },
  {
   "cell_type": "code",
   "execution_count": 51,
   "id": "7fc7fd24",
   "metadata": {},
   "outputs": [
    {
     "name": "stdout",
     "output_type": "stream",
     "text": [
      "643\n",
      "9.992996880498332e-05\n",
      "9.784499525841814e-05\n"
     ]
    }
   ],
   "source": [
    "dim = 4\n",
    "#aktivasyon fonksiyonu ve türevi\n",
    "def sigmoid(x):\n",
    "    return 1/(1 + np.exp(-x))\n",
    "\n",
    "def der_sigmoid(x):\n",
    "    return np.exp(x)/((np.exp(x)+1)**2)\n",
    "\n",
    "#import data\n",
    "f = open(\"iris.data\", \"r\")\n",
    "data = f.read()\n",
    "data_list = data.split(\"\\n\")\n",
    "\n",
    "seperated = []\n",
    "virginica = []\n",
    "versicolor = []\n",
    "setosa = []\n",
    "#labelling classes\n",
    "for i in range(len(data_list)):\n",
    "    seperated = data_list[i].split(\",\")\n",
    "    sl = float(seperated[0])\n",
    "    sw = float(seperated[1])\n",
    "    pl = float(seperated[2])\n",
    "    pw = float(seperated[3])\n",
    "\n",
    "    if seperated[4] == \"Iris-virginica\":\n",
    "        virginica.append([[sl, sw, pl, pw], [0, 0, 1]])\n",
    "    elif seperated[4] == \"Iris-versicolor\":\n",
    "        versicolor.append([[sl, sw, pl, pw], [0, 1, 0]])\n",
    "    elif seperated[4] == \"Iris-setosa\":\n",
    "        setosa.append([[sl, sw, pl, pw], [1, 0, 0]])\n",
    "#shuffle the data\n",
    "random.shuffle(virginica)\n",
    "random.shuffle(versicolor)\n",
    "random.shuffle(setosa)\n",
    "#generating test and training set\n",
    "train_data = np.concatenate((setosa[:40], np.concatenate((virginica[:40], setosa[:40]))))\n",
    "test_data = np.concatenate((setosa[40:], np.concatenate((virginica[40:], setosa[40:]))))\n",
    "\n",
    "#gizli katman sayısını ve nöron sayısını belirtelim\n",
    "input_dimension = 4\n",
    "gk_1 = 5\n",
    "gk_2 = 4\n",
    "out = 3\n",
    "#başlangıç ağırlıkları\n",
    "weights_1 = (np.random.rand(gk_1, input_dimension + 1)-0.5)/1\n",
    "weights_2 = (np.random.rand(gk_2, gk_1 + 1)-0.5)/1\n",
    "weights_out = (np.random.rand(out, gk_2 + 1)-0.5)/1\n",
    "\n",
    "#bir önceki ağırlıklar\n",
    "weights_1_old = 0\n",
    "weights_2_old = 0\n",
    "weights_out_old = 0\n",
    "Error = 0\n",
    "n_learn = 0.01  #öğrenme katsayısı\n",
    "alpha = 0.9     #momentum terim katsayısı\n",
    "\n",
    "#training the network\n",
    "for j in range(1000):\n",
    "    Error = 0\n",
    "    for i in range(len(train_data)):\n",
    "        step_data = train_data[i][0]\n",
    "        step_data = np.append(step_data, [1])\n",
    "\n",
    "        vgk1_step = np.matmul(weights_1, step_data)\n",
    "        y1 = sigmoid(vgk1_step)\n",
    "        y1 = np.append(y1, 1)\n",
    "\n",
    "        vgk2_step = np.matmul(weights_2, y1)\n",
    "        y2 = sigmoid(vgk2_step)\n",
    "        y2 = np.append(y2, 1)\n",
    "\n",
    "        vo_step = np.matmul(weights_out, y2)\n",
    "        yo = sigmoid(vo_step)\n",
    "\n",
    "        step_error = yo - train_data[i][1]\n",
    "        #yerel gradyenler\n",
    "        grd_o = step_error * der_sigmoid(vo_step)\n",
    "        grd_2 = np.matmul(np.transpose(weights_out)[:-1], grd_o) * der_sigmoid(vgk2_step)\n",
    "        grd_1 = np.matmul(np.transpose(weights_2)[:-1], grd_2) * der_sigmoid(vgk1_step)\n",
    "        #ağırlık güncellenmesi\n",
    "        weights_1_new = weights_1 - n_learn * np.matmul(grd_1.reshape(-1, 1), np.transpose(step_data.reshape(-1, 1))) + alpha * (weights_1 - weights_1_old)\n",
    "        weights_2_new = weights_2 - n_learn * np.matmul(grd_2.reshape(-1, 1), np.transpose(y1.reshape(-1, 1))) + alpha * (weights_2 - weights_2_old)\n",
    "        weights_out_new = weights_out - n_learn * np.matmul(grd_o.reshape(-1, 1), np.transpose(y2.reshape(-1, 1))) + alpha * (weights_out - weights_out_old)\n",
    "        #bir önceki ağırlıkları kaydedelim\n",
    "        weights_1_old = weights_1\n",
    "        weights_2_old = weights_2\n",
    "        weights_out_old = weights_out\n",
    "        #ağırlıkların güncellenmesini sağlayalım\n",
    "        weights_1 = weights_1_new\n",
    "        weights_2 = weights_2_new\n",
    "        weights_out = weights_out_new\n",
    "\n",
    "        Error = Error + 0.5*np.matmul(step_error, np.transpose(step_error))\n",
    "\n",
    "    if Error/len(train_data) < 0.0001:  #durdurma kriteri\n",
    "        print(j)\n",
    "        break\n",
    "\n",
    "print(Error/len(train_data))\n",
    "\n",
    "#testing section\n",
    "Error = 0\n",
    "prediction = []\n",
    "for i in range(len(test_data)):\n",
    "    step_data = test_data[i][0]\n",
    "    step_data = np.append(step_data, [1])\n",
    "\n",
    "    vgk1_step = np.matmul(weights_1, step_data)\n",
    "    y1 = sigmoid(vgk1_step)\n",
    "    y1 = np.append(y1, 1)\n",
    "\n",
    "    vgk2_step = np.matmul(weights_2, y1)\n",
    "    y2 = sigmoid(vgk2_step)\n",
    "    y2 = np.append(y2, 1)\n",
    "\n",
    "    vo_step = np.matmul(weights_out, y2)\n",
    "    yo = sigmoid(vo_step)\n",
    "\n",
    "    step_error = yo - test_data[i][1]\n",
    "\n",
    "    Error = Error + 0.5*np.matmul(step_error, np.transpose(step_error))\n",
    "    yo = np.where(yo<0.5,0,1)\n",
    "print(Error/len(test_data))"
   ]
  },
  {
   "cell_type": "code",
   "execution_count": 52,
   "id": "3d35f101",
   "metadata": {},
   "outputs": [
    {
     "data": {
      "text/plain": [
       "0.9999021550047416"
      ]
     },
     "execution_count": 52,
     "metadata": {},
     "output_type": "execute_result"
    }
   ],
   "source": [
    "1-Error/len(test_data)"
   ]
  },
  {
   "cell_type": "code",
   "execution_count": null,
   "id": "bf5b20c9",
   "metadata": {},
   "outputs": [],
   "source": []
  }
 ],
 "metadata": {
  "kernelspec": {
   "display_name": "Python 3 (ipykernel)",
   "language": "python",
   "name": "python3"
  },
  "language_info": {
   "codemirror_mode": {
    "name": "ipython",
    "version": 3
   },
   "file_extension": ".py",
   "mimetype": "text/x-python",
   "name": "python",
   "nbconvert_exporter": "python",
   "pygments_lexer": "ipython3",
   "version": "3.8.13"
  }
 },
 "nbformat": 4,
 "nbformat_minor": 5
}
